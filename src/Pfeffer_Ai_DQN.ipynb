{
 "cells": [
  {
   "cell_type": "code",
   "execution_count": 1,
   "id": "initial_id",
   "metadata": {
    "collapsed": true,
    "ExecuteTime": {
     "end_time": "2023-12-28T22:39:22.704883Z",
     "start_time": "2023-12-28T22:39:20.377224Z"
    }
   },
   "outputs": [],
   "source": [
    "import numpy as np\n",
    "import pandas as pd\n",
    "import tensorflow as tf"
   ]
  },
  {
   "cell_type": "code",
   "execution_count": 2,
   "outputs": [
    {
     "name": "stdout",
     "output_type": "stream",
     "text": [
      "2.1.4\n",
      "Num GPUs Available:  0\n"
     ]
    }
   ],
   "source": [
    "print(pd.__version__)\n",
    "\n",
    "print(\"Num GPUs Available: \", len(tf.config.list_physical_devices('GPU')))"
   ],
   "metadata": {
    "collapsed": false,
    "ExecuteTime": {
     "end_time": "2023-12-28T22:39:22.709040Z",
     "start_time": "2023-12-28T22:39:22.705915Z"
    }
   },
   "id": "93360d80e4730fd"
  },
  {
   "cell_type": "code",
   "outputs": [],
   "source": [
    "tf.keras.backend.clear_session()"
   ],
   "metadata": {
    "collapsed": false,
    "ExecuteTime": {
     "end_time": "2023-12-28T22:39:22.724524Z",
     "start_time": "2023-12-28T22:39:22.708771Z"
    }
   },
   "id": "2dc1af804c621f4d",
   "execution_count": 3
  },
  {
   "cell_type": "code",
   "outputs": [
    {
     "name": "stdout",
     "output_type": "stream",
     "text": [
      "Model: \"bid_model\"\n",
      "_________________________________________________________________\n",
      " Layer (type)                Output Shape              Param #   \n",
      "=================================================================\n",
      " hidden1 (Dense)             (None, 64)                2752      \n",
      "                                                                 \n",
      " hidden2 (Dense)             (None, 64)                4160      \n",
      "                                                                 \n",
      " output (Dense)              (None, 11)                715       \n",
      "                                                                 \n",
      "=================================================================\n",
      "Total params: 7627 (29.79 KB)\n",
      "Trainable params: 7627 (29.79 KB)\n",
      "Non-trainable params: 0 (0.00 Byte)\n",
      "_________________________________________________________________\n"
     ]
    }
   ],
   "source": [
    "bid_model = tf.keras.models.Sequential([\n",
    "    tf.keras.layers.Input(shape=(24 + 1 + 2 + 15,), name=\"input\"),\n",
    "    tf.keras.layers.Dense(64, activation='relu', name=\"hidden1\"),\n",
    "    tf.keras.layers.Dense(64, activation='relu', name=\"hidden2\"),\n",
    "    tf.keras.layers.Dense(11, name=\"output\"),\n",
    "], name=\"bid_model\")\n",
    "bid_model.compile(optimizer='adam', loss='mse')\n",
    "\n",
    "bid_model.summary()"
   ],
   "metadata": {
    "collapsed": false,
    "ExecuteTime": {
     "end_time": "2023-12-28T22:39:43.468215Z",
     "start_time": "2023-12-28T22:39:43.440376Z"
    }
   },
   "id": "f5c15183fcd0a164",
   "execution_count": 5
  },
  {
   "cell_type": "code",
   "outputs": [],
   "source": [
    "play_model = tf.keras.models.Sequential([\n",
    "    tf.keras.layers.Input(shape=(24 + 1 + 2 + 15,), name=\"input\"),\n",
    "    tf.keras.layers.Dense(64, activation='relu', name=\"hidden1\"),\n",
    "    tf.keras.layers.Dense(64, activation='relu', name=\"hidden2\"),\n",
    "    tf.keras.layers.Dense(24, name=\"output\"),\n",
    "], name=\"play_model\")\n",
    "bid_model.compile(optimizer='adam', loss='mse')\n",
    "\n",
    "bid_model.summary()"
   ],
   "metadata": {
    "collapsed": false,
    "ExecuteTime": {
     "start_time": "2023-12-28T22:39:23.014951Z"
    }
   },
   "id": "b60721dce42c4b27"
  }
 ],
 "metadata": {
  "kernelspec": {
   "display_name": "Python 3",
   "language": "python",
   "name": "python3"
  },
  "language_info": {
   "codemirror_mode": {
    "name": "ipython",
    "version": 2
   },
   "file_extension": ".py",
   "mimetype": "text/x-python",
   "name": "python",
   "nbconvert_exporter": "python",
   "pygments_lexer": "ipython2",
   "version": "2.7.6"
  }
 },
 "nbformat": 4,
 "nbformat_minor": 5
}
