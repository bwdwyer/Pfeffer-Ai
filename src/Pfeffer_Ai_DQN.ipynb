{
 "cells": [
  {
   "cell_type": "code",
   "execution_count": 1,
   "id": "initial_id",
   "metadata": {
    "collapsed": true,
    "ExecuteTime": {
     "end_time": "2023-08-06T19:10:19.171446Z",
     "start_time": "2023-08-06T19:10:17.380704Z"
    }
   },
   "outputs": [],
   "source": [
    "from keras.layers import Dense\n",
    "from keras.models import Sequential\n",
    "\n",
    "from src.pfeffer_simulation import *"
   ]
  },
  {
   "cell_type": "code",
   "execution_count": 2,
   "outputs": [
    {
     "name": "stdout",
     "output_type": "stream",
     "text": [
      "[ 1.  1.  0.  0.  1.  0.  0.  0.  0.  0.  1.  0.  0.  0.  0.  0.  0.  1.\n",
      "  0.  0.  1.  0.  0.  0.  0. 10. 10.  1.  0.  0.  0.  0.  0.  1.  0.  0.\n",
      "  0.  0.  0.  0.  0.  1.  0.  0.  0.  0.  0.]\n"
     ]
    }
   ],
   "source": [
    "# Example usage of BiddingInput\n",
    "hand = ['9S', 'TS', 'JD', 'AS', 'KH', '9H']\n",
    "previous_bids = [0, 4, 'pfeffer', None]\n",
    "dealer_position = 0\n",
    "score = [10, 10]\n",
    "input_model = BiddingInput(hand, previous_bids, dealer_position, score)\n",
    "encoded_input = input_model.encode()\n",
    "print(encoded_input)"
   ],
   "metadata": {
    "collapsed": false,
    "ExecuteTime": {
     "end_time": "2023-08-06T19:10:19.175350Z",
     "start_time": "2023-08-06T19:10:19.172633Z"
    }
   },
   "id": "ed7c273cc06ad752"
  },
  {
   "cell_type": "code",
   "execution_count": 3,
   "outputs": [
    {
     "name": "stdout",
     "output_type": "stream",
     "text": [
      "Total number of actions: 10\n",
      "Action at index 5: S\n",
      "Index of action 'pfeffer': 4\n"
     ]
    }
   ],
   "source": [
    "# Example usage of BiddingActions()\n",
    "actions = BiddingActions()\n",
    "print(\"Total number of actions:\", actions.get_number_of_actions())\n",
    "print(\"Action at index 5:\", actions.get_action(5))\n",
    "print(\"Index of action 'pfeffer':\", actions.get_index('pfeffer'))\n"
   ],
   "metadata": {
    "collapsed": false,
    "ExecuteTime": {
     "end_time": "2023-08-06T19:10:19.181070Z",
     "start_time": "2023-08-06T19:10:19.176144Z"
    }
   },
   "id": "76415ac902363a7d"
  },
  {
   "cell_type": "code",
   "execution_count": 4,
   "outputs": [
    {
     "name": "stdout",
     "output_type": "stream",
     "text": [
      "Q-values: [[0. 0. 0. 0. 0. 0. 0. 0. 0. 0.]]\n"
     ]
    }
   ],
   "source": [
    "input_shape = (24 + 3 + 1 + 1 + 2,)  # Adjust based on your exact input features\n",
    "number_of_actions = BiddingActions().get_number_of_actions()\n",
    "\n",
    "# Define the model using Sequential API\n",
    "model = Sequential([\n",
    "    Dense(128, activation='relu', input_shape=input_shape),\n",
    "    Dense(64, activation='relu'),\n",
    "    Dense(number_of_actions)\n",
    "])\n",
    "\n",
    "model.compile(optimizer='adam', loss='mean_squared_error')\n",
    "\n",
    "# Example input (replace with actual encoded input from BiddingInput class)\n",
    "example_input = tf.constant([0.0] * input_shape[0], shape=input_shape)\n",
    "\n",
    "# Get Q-values for the example input\n",
    "q_values = model.predict(example_input[tf.newaxis, :], verbose=0)\n",
    "print(\"Q-values:\", q_values)"
   ],
   "metadata": {
    "collapsed": false,
    "ExecuteTime": {
     "end_time": "2023-08-06T19:10:19.268446Z",
     "start_time": "2023-08-06T19:10:19.180202Z"
    }
   },
   "id": "8c1eefbd9cb507a4"
  },
  {
   "cell_type": "code",
   "execution_count": 5,
   "outputs": [
    {
     "name": "stdout",
     "output_type": "stream",
     "text": [
      "Encoded input: [ 1  0  0  0  1  1  0  0  1  1  0  0  1  0  0  0  1  0  0  0  1  0  0  0\n",
      "  1  0  0  0  0  0  1  0  0  0  0  0  0  0  0  0  0  0  0  0  0  0  0  0\n",
      "  0  0  0  0  0  0  0  0  0  0  1  0  0  0  0  0  0  0  0  0  0  0  0  0\n",
      "  0  0  0  0  0  0  0  0  0  0  0  0  0  0  1  0  0  0  0  0  0  0  0  0\n",
      "  0  0  0  0  0  0  0  0  0  0  0  0  0  0  0  0  0  0  1  0  0  0  0  0\n",
      "  0  0  0  0  0  0  0  0  0  0  0  0  0  0  0  0  0  0  0  0  0  0  1  0\n",
      "  0  0  0  0  0  0  0  0  0  0  0  0  0  0  0  0  0  0  0  0  0  0  0  0\n",
      "  0  0  1  0  0  0  0  1  0  0  0  0  0  0  0  0  0  0  0  0  0  0  0  0\n",
      "  0  0  0  0  0  0  0  0  0  0  0  1  0  0  0  0  0  0  0  0  0  0  0  0\n",
      "  0  0  0  0  0  0  0  0  0  0  0  0  0  0  0  1  0  0  0  0  0  0  0  0\n",
      "  0  0  0  0  0  0  0  0  0  0  0  0  0  0  0  0  0  0  0  1  0  0  0  0\n",
      "  0  0  0  0  0  0  0  0  0  0  0  0  0  0  0  0  0  0  0  0  0  0  0  0\n",
      "  0  0  0  0  0  0  0  0  0  0  0  0  0  0  0  0  0  0  0  0  0  0  0  0\n",
      "  0  0  0  0  0  0  0  0  0  0  0  0  0  0  0  0  0  0  0  0  0  0  0  0\n",
      "  0  0  0  0  0  0  0  0  0  0  0  0  0  0  0  0  0  0  0  0  0  0  0  0\n",
      "  0  0  0  0  0  0  0  0  0  0  0  0  0  0  0  0  0  0  0  0  0  0  0  0\n",
      "  0  0  0  0  0  0  0  0  0  0  0  0  0  0  0  0  0  0  0  0  0  0  0  0\n",
      "  0  0  0  0  0  0  0  0  0  0  0  0  0  0  0  0  0  0  0  0  0  0  0  0\n",
      "  0  0  0  0  0  0  0  0  0  0  0  0  0  0  0  0  0  0  0  0  0  0  0  0\n",
      "  0  0  0  0  0  0  0  0  0  0  0  0  0  0  0  0  0  0  0  0  0  0  0  0\n",
      "  0  0  0  0  0  0  0  0  0  0  0  0  0  0  0  0  0  0  0  0  0  0  0  0\n",
      "  0  0  0  0  0  0  0  0  0  0  0  0  0  0  0  0  0  0  0  0  0  0  0  0\n",
      "  0  0  0  0  0  0  0  0  0  0  0  0  0  0  0  0  0  0  0  0  0  0  0  0\n",
      "  0  0  0  0  0  0  0  0  0  0  0  0  0  0  0  0  0  0  0  0  0  0  0  0\n",
      "  0  0  0  0  0  0  0  0  0  0  0  0  0  0  0  0  0  0  0  0  0  0  0  0\n",
      "  0  0  0  0  0  0  1  0  1  0  0  0  0  1  0  0  0  0  0  1  0  1  0  0\n",
      "  0  0  0  1  0  0  1  0  0  0  0  1  0  0  0  0  0  0  1  0  0  1  0  0\n",
      "  0  0  0  0  0  1  0  0  1  0  0  0  0  0  1  0  0  1  0  0  0  0  1  0\n",
      "  0  0  0  1  0  0  0  0  0  0  1  0  0  0 10 10]\n"
     ]
    }
   ],
   "source": [
    "\n",
    "player_id = 0\n",
    "hand = ['9S', 'TS', 'JS', 'QS', 'KS', 'AS', '9H', 'TH']\n",
    "played_cards = [\n",
    "    ['9D', 'TD', 'JD', 'QD'],  \n",
    "    ['KD', 'AD', '9C', 'TC'],  \n",
    "    ['JC', 'QC', None, None],  \n",
    "    [None, None, None, None],  \n",
    "    [None, None, None, None],\n",
    "    [None, None, None, None],\n",
    "]\n",
    "bidding_order = [2, 0, 1, 3]\n",
    "all_bids = [4, 5, 0, 0]\n",
    "winning_bid = (5, 'S')\n",
    "lead_players = [2, 0, 1, None, None, None]\n",
    "current_trick = 2\n",
    "score = [10, 10]\n",
    "\n",
    "play_input = PlayInput(player_id, hand, played_cards, bidding_order, all_bids, winning_bid, lead_players, current_trick, score)\n",
    "encoded_input = play_input.encode()\n",
    "print(\"Encoded input:\", encoded_input)"
   ],
   "metadata": {
    "collapsed": false,
    "ExecuteTime": {
     "end_time": "2023-08-06T19:10:19.281864Z",
     "start_time": "2023-08-06T19:10:19.267809Z"
    }
   },
   "id": "ae370e64ff86bf47"
  },
  {
   "cell_type": "code",
   "execution_count": 6,
   "outputs": [
    {
     "name": "stdout",
     "output_type": "stream",
     "text": [
      "Q-values for play: [[0. 0. 0. 0. 0. 0. 0. 0. 0. 0. 0. 0. 0. 0. 0. 0. 0. 0. 0. 0. 0. 0. 0. 0.]]\n"
     ]
    }
   ],
   "source": [
    "input_shape_play = (4 + 24 + 6*4*24 + 4*4 + 4*5 + 5+5 + 6*4 + 6 + 2,)  # Adjust based on your exact input features\n",
    "number_of_play_actions = 24  # Number of possible play actions (24 cards)\n",
    "\n",
    "# Define the play model using Sequential API\n",
    "play_model = Sequential([\n",
    "    Dense(128, activation='relu', input_shape=input_shape_play),\n",
    "    Dense(64, activation='relu'),\n",
    "    Dense(number_of_play_actions)\n",
    "])\n",
    "\n",
    "play_model.compile(optimizer='adam', loss='mean_squared_error')\n",
    "\n",
    "# Example input (replace with actual encoded input from PlayInput class)\n",
    "example_input_play = tf.constant([0.0] * input_shape_play[0], shape=input_shape_play)\n",
    "\n",
    "# Get Q-values for the example input\n",
    "q_values_play = play_model.predict(example_input_play[tf.newaxis, :], verbose=0)\n",
    "print(\"Q-values for play:\", q_values_play)"
   ],
   "metadata": {
    "collapsed": false,
    "ExecuteTime": {
     "end_time": "2023-08-06T19:10:19.333556Z",
     "start_time": "2023-08-06T19:10:19.284059Z"
    }
   },
   "id": "4d7c973cb14de6a4"
  },
  {
   "cell_type": "code",
   "execution_count": 6,
   "outputs": [],
   "source": [],
   "metadata": {
    "collapsed": false,
    "ExecuteTime": {
     "end_time": "2023-08-06T19:10:19.336255Z",
     "start_time": "2023-08-06T19:10:19.332417Z"
    }
   },
   "id": "93360d80e4730fd"
  }
 ],
 "metadata": {
  "kernelspec": {
   "display_name": "Python 3",
   "language": "python",
   "name": "python3"
  },
  "language_info": {
   "codemirror_mode": {
    "name": "ipython",
    "version": 2
   },
   "file_extension": ".py",
   "mimetype": "text/x-python",
   "name": "python",
   "nbconvert_exporter": "python",
   "pygments_lexer": "ipython2",
   "version": "2.7.6"
  }
 },
 "nbformat": 4,
 "nbformat_minor": 5
}
