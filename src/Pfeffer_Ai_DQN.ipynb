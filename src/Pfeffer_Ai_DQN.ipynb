{
 "cells": [
  {
   "cell_type": "code",
   "execution_count": 1,
   "id": "initial_id",
   "metadata": {
    "collapsed": true,
    "ExecuteTime": {
     "end_time": "2023-12-29T00:48:24.992413Z",
     "start_time": "2023-12-29T00:48:22.672760Z"
    }
   },
   "outputs": [],
   "source": [
    "import numpy as np\n",
    "import pandas as pd\n",
    "import tensorflow as tf\n",
    "\n",
    "import time\n",
    "\n",
    "from src.Game import Game"
   ]
  },
  {
   "cell_type": "code",
   "execution_count": 2,
   "outputs": [
    {
     "name": "stdout",
     "output_type": "stream",
     "text": [
      "2.1.4\n",
      "Num GPUs Available:  0\n"
     ]
    }
   ],
   "source": [
    "print(pd.__version__)\n",
    "\n",
    "print(\"Num GPUs Available: \", len(tf.config.list_physical_devices('GPU')))"
   ],
   "metadata": {
    "collapsed": false,
    "ExecuteTime": {
     "end_time": "2023-12-29T00:48:24.996106Z",
     "start_time": "2023-12-29T00:48:24.993283Z"
    }
   },
   "id": "93360d80e4730fd"
  },
  {
   "cell_type": "code",
   "outputs": [],
   "source": [
    "tf.keras.backend.clear_session()"
   ],
   "metadata": {
    "collapsed": false,
    "ExecuteTime": {
     "end_time": "2023-12-29T00:48:25.000993Z",
     "start_time": "2023-12-29T00:48:24.997493Z"
    }
   },
   "id": "2dc1af804c621f4d",
   "execution_count": 3
  },
  {
   "cell_type": "code",
   "outputs": [
    {
     "name": "stdout",
     "output_type": "stream",
     "text": [
      "Model: \"bid_model\"\n",
      "_________________________________________________________________\n",
      " Layer (type)                Output Shape              Param #   \n",
      "=================================================================\n",
      " hidden1 (Dense)             (None, 64)                2752      \n",
      "                                                                 \n",
      " hidden2 (Dense)             (None, 64)                4160      \n",
      "                                                                 \n",
      " output (Dense)              (None, 11)                715       \n",
      "                                                                 \n",
      "=================================================================\n",
      "Total params: 7627 (29.79 KB)\n",
      "Trainable params: 7627 (29.79 KB)\n",
      "Non-trainable params: 0 (0.00 Byte)\n",
      "_________________________________________________________________\n"
     ]
    }
   ],
   "source": [
    "bid_model = tf.keras.models.Sequential([\n",
    "    tf.keras.layers.Input(shape=(24 + 1 + 2 + 15,), name=\"input\"),\n",
    "    tf.keras.layers.Dense(64, activation='relu', name=\"hidden1\"),\n",
    "    tf.keras.layers.Dense(64, activation='relu', name=\"hidden2\"),\n",
    "    tf.keras.layers.Dense(11, name=\"output\"),\n",
    "], name=\"bid_model\")\n",
    "bid_model.compile(optimizer='adam', loss='mse')\n",
    "\n",
    "bid_model.summary()"
   ],
   "metadata": {
    "collapsed": false,
    "ExecuteTime": {
     "end_time": "2023-12-29T00:48:25.042303Z",
     "start_time": "2023-12-29T00:48:25.001184Z"
    }
   },
   "id": "f5c15183fcd0a164",
   "execution_count": 4
  },
  {
   "cell_type": "code",
   "outputs": [
    {
     "name": "stdout",
     "output_type": "stream",
     "text": [
      "Model: \"play_model\"\n",
      "_________________________________________________________________\n",
      " Layer (type)                Output Shape              Param #   \n",
      "=================================================================\n",
      " hidden1 (Dense)             (None, 64)                46272     \n",
      "                                                                 \n",
      " hidden2 (Dense)             (None, 64)                4160      \n",
      "                                                                 \n",
      " output (Dense)              (None, 24)                1560      \n",
      "                                                                 \n",
      "=================================================================\n",
      "Total params: 51992 (203.09 KB)\n",
      "Trainable params: 51992 (203.09 KB)\n",
      "Non-trainable params: 0 (0.00 Byte)\n",
      "_________________________________________________________________\n"
     ]
    }
   ],
   "source": [
    "play_model = tf.keras.models.Sequential([\n",
    "    tf.keras.layers.Input(shape=(4 + 24 + (6 * 4 * 24) + 16 + 20 + 14 + 30 + 30 + 6 + 2,), name=\"input\"),  # 722\n",
    "    tf.keras.layers.Dense(64, activation='relu', name=\"hidden1\"),\n",
    "    tf.keras.layers.Dense(64, activation='relu', name=\"hidden2\"),\n",
    "    tf.keras.layers.Dense(24, name=\"output\"),\n",
    "], name=\"play_model\")\n",
    "play_model.compile(optimizer='adam', loss='mse')\n",
    "\n",
    "play_model.summary()"
   ],
   "metadata": {
    "collapsed": false,
    "ExecuteTime": {
     "end_time": "2023-12-29T00:48:25.068868Z",
     "start_time": "2023-12-29T00:48:25.045893Z"
    }
   },
   "id": "b60721dce42c4b27",
   "execution_count": 5
  },
  {
   "cell_type": "code",
   "outputs": [],
   "source": [
    "class BatchLogger(tf.keras.callbacks.Callback):\n",
    "    def __init__(self):\n",
    "        super().__init__()\n",
    "        self.batch_logs = []\n",
    "        self.total_batches_seen = 0\n",
    "        self.log_df = None\n",
    "\n",
    "    def on_train_batch_end(self, batch, logs=None):\n",
    "        self.total_batches_seen += 1\n",
    "        self.batch_logs.append({'Iteration': self.total_batches_seen, 'Loss': logs['loss'], 'Accuracy': logs['accuracy']})\n",
    "\n",
    "    def on_epoch_end(self, epoch, logs=None):\n",
    "        # Create the log DataFrame at the end of each epoch\n",
    "        self.log_df = pd.DataFrame(self.batch_logs)\n",
    "logger = BatchLogger()"
   ],
   "metadata": {
    "collapsed": false,
    "ExecuteTime": {
     "end_time": "2023-12-29T00:48:25.074096Z",
     "start_time": "2023-12-29T00:48:25.070018Z"
    }
   },
   "id": "de2369cb47d13c07",
   "execution_count": 6
  },
  {
   "cell_type": "code",
   "outputs": [],
   "source": [
    "# Define training parameters\n",
    "epochs = 1\n",
    "epsilon = 1.0\n",
    "epsilon_decay = 0.995\n",
    "epsilon_min = 0.1\n",
    "episodes = 1  # 2_000\n",
    "batch_size = 2 ** 4 #  8192  # 32\n",
    "gamma = 1  # 0.95"
   ],
   "metadata": {
    "collapsed": false,
    "ExecuteTime": {
     "end_time": "2023-12-29T00:48:25.074407Z",
     "start_time": "2023-12-29T00:48:25.072508Z"
    }
   },
   "id": "7d8c1e08170f97cb",
   "execution_count": 7
  },
  {
   "cell_type": "code",
   "outputs": [
    {
     "ename": "AttributeError",
     "evalue": "'str' object has no attribute 'shape'",
     "output_type": "error",
     "traceback": [
      "\u001B[0;31m---------------------------------------------------------------------------\u001B[0m",
      "\u001B[0;31mAttributeError\u001B[0m                            Traceback (most recent call last)",
      "Cell \u001B[0;32mIn[8], line 4\u001B[0m\n\u001B[1;32m      1\u001B[0m game \u001B[38;5;241m=\u001B[39m Game(bid_model, play_model)\n\u001B[1;32m      3\u001B[0m \u001B[38;5;66;03m# Play one game with default models\u001B[39;00m\n\u001B[0;32m----> 4\u001B[0m \u001B[43mgame\u001B[49m\u001B[38;5;241;43m.\u001B[39;49m\u001B[43mplay_game\u001B[49m\u001B[43m(\u001B[49m\u001B[43m)\u001B[49m\n\u001B[1;32m      6\u001B[0m \u001B[38;5;66;03m# Training loop\u001B[39;00m\n\u001B[1;32m      7\u001B[0m start_time \u001B[38;5;241m=\u001B[39m time\u001B[38;5;241m.\u001B[39mtime()  \u001B[38;5;66;03m# Get the current time\u001B[39;00m\n",
      "File \u001B[0;32m~/Code/Tensorflow Experiments/Pfeffer-Ai/src/Game.py:263\u001B[0m, in \u001B[0;36mGame.play_game\u001B[0;34m(self)\u001B[0m\n\u001B[1;32m    261\u001B[0m \u001B[38;5;28;01mwhile\u001B[39;00m \u001B[38;5;129;01mnot\u001B[39;00m \u001B[38;5;28mself\u001B[39m\u001B[38;5;241m.\u001B[39mgame_over():\n\u001B[1;32m    262\u001B[0m     \u001B[38;5;28mself\u001B[39m\u001B[38;5;241m.\u001B[39mreset_round()\n\u001B[0;32m--> 263\u001B[0m     \u001B[38;5;28;43mself\u001B[39;49m\u001B[38;5;241;43m.\u001B[39;49m\u001B[43mbid_round\u001B[49m\u001B[43m(\u001B[49m\u001B[43m)\u001B[49m\n\u001B[1;32m    264\u001B[0m     \u001B[38;5;28mself\u001B[39m\u001B[38;5;241m.\u001B[39mplay_round()\n",
      "File \u001B[0;32m~/Code/Tensorflow Experiments/Pfeffer-Ai/src/Game.py:80\u001B[0m, in \u001B[0;36mGame.bid_round\u001B[0;34m(self)\u001B[0m\n\u001B[1;32m     77\u001B[0m bid_input \u001B[38;5;241m=\u001B[39m BidInput\u001B[38;5;241m.\u001B[39mfrom_game_state(player_id, \u001B[38;5;28mself\u001B[39m\u001B[38;5;241m.\u001B[39mgame_state)\n\u001B[1;32m     79\u001B[0m \u001B[38;5;66;03m# Get bid from player\u001B[39;00m\n\u001B[0;32m---> 80\u001B[0m bid, trump_suit \u001B[38;5;241m=\u001B[39m \u001B[43mplayer\u001B[49m\u001B[38;5;241;43m.\u001B[39;49m\u001B[43mmake_bid\u001B[49m\u001B[43m(\u001B[49m\u001B[43mbid_input\u001B[49m\u001B[43m)\u001B[49m\n\u001B[1;32m     82\u001B[0m \u001B[38;5;66;03m# Update game state with bid\u001B[39;00m\n\u001B[1;32m     83\u001B[0m \u001B[38;5;28mself\u001B[39m\u001B[38;5;241m.\u001B[39mgame_state[\u001B[38;5;124m\"\u001B[39m\u001B[38;5;124mall_bids\u001B[39m\u001B[38;5;124m\"\u001B[39m]\u001B[38;5;241m.\u001B[39mappend(bid)\n",
      "File \u001B[0;32m~/Code/Tensorflow Experiments/Pfeffer-Ai/src/Player.py:84\u001B[0m, in \u001B[0;36mPlayer.make_bid\u001B[0;34m(self, bid_input)\u001B[0m\n\u001B[1;32m     81\u001B[0m encoded_state \u001B[38;5;241m=\u001B[39m bid_input\u001B[38;5;241m.\u001B[39mencode()\n\u001B[1;32m     83\u001B[0m \u001B[38;5;66;03m# Get the Q-values from the bidding model\u001B[39;00m\n\u001B[0;32m---> 84\u001B[0m q_values \u001B[38;5;241m=\u001B[39m \u001B[38;5;28;43mself\u001B[39;49m\u001B[38;5;241;43m.\u001B[39;49m\u001B[43mbid_model\u001B[49m\u001B[38;5;241;43m.\u001B[39;49m\u001B[43mpredict\u001B[49m\u001B[43m(\u001B[49m\u001B[43mencoded_state\u001B[49m\u001B[43m)\u001B[49m\n\u001B[1;32m     86\u001B[0m \u001B[38;5;66;03m# Create a mask based on the highest previous bid\u001B[39;00m\n\u001B[1;32m     87\u001B[0m highest_previous_bid \u001B[38;5;241m=\u001B[39m \u001B[38;5;28mmax\u001B[39m(bid_input\u001B[38;5;241m.\u001B[39mprevious_bids, default\u001B[38;5;241m=\u001B[39m\u001B[38;5;241m0\u001B[39m)\n",
      "File \u001B[0;32m~/Code/Tensorflow Experiments/Gym/Pfeffer-Ai/lib/python3.9/site-packages/keras/src/utils/traceback_utils.py:70\u001B[0m, in \u001B[0;36mfilter_traceback.<locals>.error_handler\u001B[0;34m(*args, **kwargs)\u001B[0m\n\u001B[1;32m     67\u001B[0m     filtered_tb \u001B[38;5;241m=\u001B[39m _process_traceback_frames(e\u001B[38;5;241m.\u001B[39m__traceback__)\n\u001B[1;32m     68\u001B[0m     \u001B[38;5;66;03m# To get the full stack trace, call:\u001B[39;00m\n\u001B[1;32m     69\u001B[0m     \u001B[38;5;66;03m# `tf.debugging.disable_traceback_filtering()`\u001B[39;00m\n\u001B[0;32m---> 70\u001B[0m     \u001B[38;5;28;01mraise\u001B[39;00m e\u001B[38;5;241m.\u001B[39mwith_traceback(filtered_tb) \u001B[38;5;28;01mfrom\u001B[39;00m \u001B[38;5;28;01mNone\u001B[39;00m\n\u001B[1;32m     71\u001B[0m \u001B[38;5;28;01mfinally\u001B[39;00m:\n\u001B[1;32m     72\u001B[0m     \u001B[38;5;28;01mdel\u001B[39;00m filtered_tb\n",
      "File \u001B[0;32m~/Code/Tensorflow Experiments/Gym/Pfeffer-Ai/lib/python3.9/site-packages/keras/src/engine/data_adapter.py:1946\u001B[0m, in \u001B[0;36m<genexpr>\u001B[0;34m(.0)\u001B[0m\n\u001B[1;32m   1941\u001B[0m msg \u001B[38;5;241m=\u001B[39m \u001B[38;5;124m\"\u001B[39m\u001B[38;5;124mData cardinality is ambiguous:\u001B[39m\u001B[38;5;130;01m\\n\u001B[39;00m\u001B[38;5;124m\"\u001B[39m\n\u001B[1;32m   1942\u001B[0m \u001B[38;5;28;01mfor\u001B[39;00m label, single_data \u001B[38;5;129;01min\u001B[39;00m \u001B[38;5;28mzip\u001B[39m([\u001B[38;5;124m\"\u001B[39m\u001B[38;5;124mx\u001B[39m\u001B[38;5;124m\"\u001B[39m, \u001B[38;5;124m\"\u001B[39m\u001B[38;5;124my\u001B[39m\u001B[38;5;124m\"\u001B[39m, \u001B[38;5;124m\"\u001B[39m\u001B[38;5;124msample_weight\u001B[39m\u001B[38;5;124m\"\u001B[39m], data):\n\u001B[1;32m   1943\u001B[0m     msg \u001B[38;5;241m+\u001B[39m\u001B[38;5;241m=\u001B[39m \u001B[38;5;124m\"\u001B[39m\u001B[38;5;124m  \u001B[39m\u001B[38;5;132;01m{}\u001B[39;00m\u001B[38;5;124m sizes: \u001B[39m\u001B[38;5;132;01m{}\u001B[39;00m\u001B[38;5;130;01m\\n\u001B[39;00m\u001B[38;5;124m\"\u001B[39m\u001B[38;5;241m.\u001B[39mformat(\n\u001B[1;32m   1944\u001B[0m         label,\n\u001B[1;32m   1945\u001B[0m         \u001B[38;5;124m\"\u001B[39m\u001B[38;5;124m, \u001B[39m\u001B[38;5;124m\"\u001B[39m\u001B[38;5;241m.\u001B[39mjoin(\n\u001B[0;32m-> 1946\u001B[0m             \u001B[38;5;28mstr\u001B[39m(\u001B[43mi\u001B[49m\u001B[38;5;241;43m.\u001B[39;49m\u001B[43mshape\u001B[49m[\u001B[38;5;241m0\u001B[39m]) \u001B[38;5;28;01mfor\u001B[39;00m i \u001B[38;5;129;01min\u001B[39;00m tf\u001B[38;5;241m.\u001B[39mnest\u001B[38;5;241m.\u001B[39mflatten(single_data)\n\u001B[1;32m   1947\u001B[0m         ),\n\u001B[1;32m   1948\u001B[0m     )\n\u001B[1;32m   1949\u001B[0m msg \u001B[38;5;241m+\u001B[39m\u001B[38;5;241m=\u001B[39m \u001B[38;5;124m\"\u001B[39m\u001B[38;5;124mMake sure all arrays contain the same number of samples.\u001B[39m\u001B[38;5;124m\"\u001B[39m\n\u001B[1;32m   1950\u001B[0m \u001B[38;5;28;01mraise\u001B[39;00m \u001B[38;5;167;01mValueError\u001B[39;00m(msg)\n",
      "\u001B[0;31mAttributeError\u001B[0m: 'str' object has no attribute 'shape'"
     ]
    }
   ],
   "source": [
    "game = Game(bid_model, play_model)\n",
    "\n",
    "# Play one game with default models\n",
    "game.play_game()\n",
    "\n",
    "# Training loop\n",
    "start_time = time.time()  # Get the current time\n",
    "for e in range(episodes):\n",
    "    if e % 100 == 0:\n",
    "        print(f\"Episode {e} | epsilon {epsilon}\")\n",
    "    \n",
    "    \n",
    "    "
   ],
   "metadata": {
    "collapsed": false,
    "ExecuteTime": {
     "end_time": "2023-12-29T00:48:25.501825Z",
     "start_time": "2023-12-29T00:48:25.076278Z"
    }
   },
   "id": "d084b341aa9d0b0",
   "execution_count": 8
  }
 ],
 "metadata": {
  "kernelspec": {
   "display_name": "Python 3",
   "language": "python",
   "name": "python3"
  },
  "language_info": {
   "codemirror_mode": {
    "name": "ipython",
    "version": 2
   },
   "file_extension": ".py",
   "mimetype": "text/x-python",
   "name": "python",
   "nbconvert_exporter": "python",
   "pygments_lexer": "ipython2",
   "version": "2.7.6"
  }
 },
 "nbformat": 4,
 "nbformat_minor": 5
}
