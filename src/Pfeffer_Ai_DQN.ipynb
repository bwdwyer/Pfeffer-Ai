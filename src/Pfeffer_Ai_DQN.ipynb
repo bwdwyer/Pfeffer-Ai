{
 "cells": [
  {
   "cell_type": "code",
   "execution_count": null,
   "id": "initial_id",
   "metadata": {
    "collapsed": true
   },
   "outputs": [],
   "source": [
    "from keras.layers import Dense\n",
    "from keras.models import Sequential\n",
    "\n",
    "from src.pfeffer_simulation import *"
   ]
  },
  {
   "cell_type": "code",
   "execution_count": null,
   "outputs": [],
   "source": [
    "# Example usage of BidInput\n",
    "hand = ['9S', 'TS', 'JD', 'AS', 'KH', '9H']\n",
    "previous_bids = [0, 4, 'pfeffer', None]\n",
    "dealer_position = 0\n",
    "score = [10, 10]\n",
    "input_model = BidInput(hand, previous_bids, dealer_position, score)\n",
    "encoded_input = input_model.encode()\n",
    "print(encoded_input)"
   ],
   "metadata": {
    "collapsed": false
   },
   "id": "ed7c273cc06ad752"
  },
  {
   "cell_type": "code",
   "execution_count": null,
   "outputs": [],
   "source": [
    "# Example usage of BidActions()\n",
    "actions = BidActions()\n",
    "print(\"Total number of actions:\", actions.get_number_of_actions())\n",
    "print(\"Action at index 5:\", actions.get_action(5))\n",
    "print(\"Index of action 'pfeffer':\", actions.get_index('pfeffer'))\n"
   ],
   "metadata": {
    "collapsed": false
   },
   "id": "76415ac902363a7d"
  },
  {
   "cell_type": "code",
   "execution_count": null,
   "outputs": [],
   "source": [
    "input_shape = (24 + 3 + 1 + 1 + 2,)  # Adjust based on your exact input features\n",
    "number_of_actions = BidActions().get_number_of_actions()\n",
    "\n",
    "# Define the model using Sequential API\n",
    "model = Sequential([\n",
    "    Dense(128, activation='relu', input_shape=input_shape),\n",
    "    Dense(64, activation='relu'),\n",
    "    Dense(number_of_actions)\n",
    "])\n",
    "\n",
    "model.compile(optimizer='adam', loss='mean_squared_error')\n",
    "\n",
    "# Example input (replace with actual encoded input from BidInput class)\n",
    "example_input = tf.constant([0.0] * input_shape[0], shape=input_shape)\n",
    "\n",
    "# Get Q-values for the example input\n",
    "q_values = model.predict(example_input[tf.newaxis, :], verbose=0)\n",
    "print(\"Q-values:\", q_values)"
   ],
   "metadata": {
    "collapsed": false
   },
   "id": "8c1eefbd9cb507a4"
  },
  {
   "cell_type": "code",
   "execution_count": null,
   "outputs": [],
   "source": [
    "input_shape_play = (4 + 24 + 6*4*24 + 4*4 + 4*5 + 5+5 + 6*4 + 6 + 2,)  # Adjust based on your exact input features\n",
    "number_of_play_actions = 24  # Number of possible play actions (24 cards)\n",
    "\n",
    "# Define the play model using Sequential API\n",
    "play_model = Sequential([\n",
    "    Dense(128, activation='relu', input_shape=input_shape_play),\n",
    "    Dense(64, activation='relu'),\n",
    "    Dense(number_of_play_actions)\n",
    "])\n",
    "\n",
    "play_model.compile(optimizer='adam', loss='mean_squared_error')\n",
    "\n",
    "# Example input (replace with actual encoded input from PlayInput class)\n",
    "example_input_play = tf.constant([0.0] * input_shape_play[0], shape=input_shape_play)\n",
    "\n",
    "# Get Q-values for the example input\n",
    "q_values_play = play_model.predict(example_input_play[tf.newaxis, :], verbose=0)\n",
    "print(\"Q-values for play:\", q_values_play)"
   ],
   "metadata": {
    "collapsed": false
   },
   "id": "4d7c973cb14de6a4"
  },
  {
   "cell_type": "code",
   "execution_count": null,
   "outputs": [],
   "source": [],
   "metadata": {
    "collapsed": false
   },
   "id": "93360d80e4730fd"
  }
 ],
 "metadata": {
  "kernelspec": {
   "display_name": "Python 3",
   "language": "python",
   "name": "python3"
  },
  "language_info": {
   "codemirror_mode": {
    "name": "ipython",
    "version": 2
   },
   "file_extension": ".py",
   "mimetype": "text/x-python",
   "name": "python",
   "nbconvert_exporter": "python",
   "pygments_lexer": "ipython2",
   "version": "2.7.6"
  }
 },
 "nbformat": 4,
 "nbformat_minor": 5
}
